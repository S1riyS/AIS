{
    "cells": [
        {
            "cell_type": "markdown",
            "metadata": {},
            "source": [
                "# Лабораторная работа 4: Метод k-ближайших соседей\n",
                "\n",
                "## Реализация без использования библиотек машинного обучения, только NumPy и Pandas"
            ]
        },
        {
            "cell_type": "code",
            "execution_count": null,
            "metadata": {},
            "outputs": [],
            "source": [
                "import numpy as np\n",
                "import pandas as pd\n",
                "import matplotlib.pyplot as plt\n",
                "import seaborn as sns\n",
                "from sklearn.model_selection import train_test_split\n",
                "from sklearn.preprocessing import StandardScaler\n",
                "from sklearn.metrics import confusion_matrix\n",
                "\n",
                "# Настройка отображения графиков\n",
                "%matplotlib inline\n",
                "plt.rcParams[\"figure.figsize\"] = (10, 6)\n",
                "sns.set_style(\"whitegrid\")"
            ]
        },
        {
            "cell_type": "markdown",
            "metadata": {},
            "source": [
                "## 1. Загрузка и предварительная обработка данных"
            ]
        },
        {
            "cell_type": "code",
            "execution_count": null,
            "metadata": {},
            "outputs": [],
            "source": [
                "# Загрузка данных\n",
                "df = pd.read_csv(\"data/WineDataset.csv\")\n",
                "\n",
                "print(\"1. ПРЕДВАРИТЕЛЬНАЯ ОБРАБОТКА ДАННЫХ\")\n",
                "print(\"=\" * 50)\n",
                "\n",
                "# Проверка на отсутствующие значения\n",
                "print(\"Проверка отсутствующих значений:\")\n",
                "print(df.isnull().sum())\n",
                "print()\n",
                "\n",
                "# Информация о датасете\n",
                "print(\"Информация о датасете:\")\n",
                "print(df.info())\n",
                "print()\n",
                "\n",
                "# Масштабирование признаков (стандартизация)\n",
                "scaler = StandardScaler()\n",
                "X = df.drop(\"Wine\", axis=1)\n",
                "y = df[\"Wine\"]\n",
                "X_scaled = scaler.fit_transform(X)\n",
                "\n",
                "print(\"Размерность данных после масштабирования:\", X_scaled.shape)\n",
                "print()"
            ]
        },
        {
            "cell_type": "markdown",
            "metadata": {},
            "source": [
                "## 2. Статистика и визуализация данных"
            ]
        },
        {
            "cell_type": "code",
            "execution_count": null,
            "metadata": {},
            "outputs": [],
            "source": [
                "print(\"2. СТАТИСТИКА И ВИЗУАЛИЗАЦИЯ ДАННЫХ\")\n",
                "print(\"=\" * 50)\n",
                "\n",
                "# Базовая статистика\n",
                "print(\"Статистика датасета:\")\n",
                "print(df.describe())\n",
                "print()"
            ]
        },
        {
            "cell_type": "code",
            "execution_count": null,
            "metadata": {},
            "outputs": [],
            "source": [
                "# Визуализация распределения классов\n",
                "plt.figure(figsize=(10, 6))\n",
                "sns.countplot(x=\"Wine\", data=df)\n",
                "plt.title(\"Распределение классов вина\")\n",
                "plt.show()"
            ]
        },
        {
            "cell_type": "markdown",
            "metadata": {},
            "source": [
                "### 2.1. Визуализация распределения признаков"
            ]
        },
        {
            "cell_type": "code",
            "execution_count": null,
            "metadata": {},
            "outputs": [],
            "source": [
                "print(\"2.1. ВИЗУАЛИЗАЦИЯ РАСПРЕДЕЛЕНИЯ ПРИЗНАКОВ\")\n",
                "print(\"=\" * 50)\n",
                "\n",
                "# Выбор 9 признаков для визуализации\n",
                "selected_features = [\n",
                "    'Alcohol', 'Malic Acid', 'Ash', \n",
                "    'Alcalinity of ash', 'Magnesium', 'Total phenols',\n",
                "    'Flavanoids', 'Color intensity', 'Proline'\n",
                "]\n",
                "\n",
                "# Создание сетки графиков 3x3\n",
                "fig, axes = plt.subplots(3, 3, figsize=(15, 12))\n",
                "fig.suptitle('Гистограммы распределения признаков вина', fontsize=16, fontweight='bold')\n",
                "\n",
                "# Построение гистограмм для каждого признака\n",
                "for i, feature in enumerate(selected_features):\n",
                "    row = i // 3\n",
                "    col = i % 3\n",
                "    \n",
                "    # Гистограмма с помощью matplotlib\n",
                "    axes[row, col].hist(df[feature], bins=15, color='skyblue', edgecolor='black', alpha=0.7)\n",
                "    \n",
                "    # Настройка внешнего вида\n",
                "    axes[row, col].set_title(f'Распределение {feature}', fontweight='bold')\n",
                "    axes[row, col].set_xlabel(feature)\n",
                "    axes[row, col].set_ylabel('Частота')\n",
                "    axes[row, col].grid(True, alpha=0.3)\n",
                "    \n",
                "    # Добавление вертикальной линии для среднего значения\n",
                "    mean_val = df[feature].mean()\n",
                "    axes[row, col].axvline(mean_val, color='red', linestyle='--', linewidth=2, label=f'Среднее: {mean_val:.2f}')\n",
                "    axes[row, col].legend()\n",
                "\n",
                "plt.tight_layout()\n",
                "plt.show()"
            ]
        },
        {
            "cell_type": "code",
            "execution_count": null,
            "metadata": {},
            "outputs": [],
            "source": [
                "# 3D визуализация первых трех признаков\n",
                "fig = plt.figure(figsize=(13, 16))\n",
                "ax = fig.add_subplot(111, projection=\"3d\")\n",
                "\n",
                "colors = [\"red\", \"blue\", \"green\"]\n",
                "for i in range(1, 4):\n",
                "    mask = y == i\n",
                "    ax.scatter(\n",
                "        X_scaled[mask, 0],\n",
                "        X_scaled[mask, 1],\n",
                "        X_scaled[mask, 2],\n",
                "        c=colors[i - 1],\n",
                "        label=f\"Class {i}\",\n",
                "        alpha=0.7,\n",
                "    )\n",
                "\n",
                "ax.set_xlabel(\"Feature 1 (Alcohol)\")\n",
                "ax.set_ylabel(\"Feature 2 (Malic Acid)\")\n",
                "ax.set_zlabel(\"Feature 3 (Ash)\")\n",
                "ax.set_title(\"3D визуализация признаков вина\")\n",
                "ax.legend()\n",
                "plt.show()"
            ]
        },
        {
            "cell_type": "markdown",
            "metadata": {},
            "source": [
                "## 3. Реализация k-NN с нуля"
            ]
        },
        {
            "cell_type": "code",
            "execution_count": null,
            "metadata": {},
            "outputs": [],
            "source": [
                "class KNN:\n",
                "    def __init__(self, k=3):\n",
                "        self.k = k\n",
                "\n",
                "    def fit(self, X, y):\n",
                "        self.X_train = X\n",
                "        self.y_train = y\n",
                "\n",
                "    def predict(self, X):\n",
                "        predictions = [self._predict(x) for x in X]\n",
                "        return np.array(predictions)\n",
                "\n",
                "    def _euclidean_distance(self, x1, x2):\n",
                "        return np.sqrt(np.sum((x1 - x2) ** 2))\n",
                "\n",
                "    def _predict(self, x):\n",
                "        # Вычисление расстояний до всех точек обучающей выборки\n",
                "        distances = [self._euclidean_distance(x, x_train) for x_train in self.X_train]\n",
                "\n",
                "        # Получение k ближайших соседей\n",
                "        k_indices = np.argsort(distances)[: self.k]\n",
                "        k_nearest_labels = [self.y_train[i] for i in k_indices]\n",
                "\n",
                "        # Голосование большинством\n",
                "        most_common = np.bincount(k_nearest_labels).argmax()\n",
                "        return most_common\n",
                "\n",
                "    def accuracy(self, y_true, y_pred):\n",
                "        return np.sum(y_true == y_pred) / len(y_true)"
            ]
        },
        {
            "cell_type": "markdown",
            "metadata": {},
            "source": [
                "## 4. Построение моделей с различными наборами признаков"
            ]
        },
        {
            "cell_type": "code",
            "execution_count": null,
            "metadata": {},
            "outputs": [],
            "source": [
                "print(\"4. ПОСТРОЕНИЕ МОДЕЛЕЙ С РАЗЛИЧНЫМИ НАБОРАМИ ПРИЗНАКОВ\")\n",
                "print(\"=\" * 50)\n",
                "\n",
                "# Разделение на обучающую и тестовую выборки\n",
                "X_train, X_test, y_train, y_test = train_test_split(X_scaled, y, test_size=0.3, random_state=42)\n",
                "\n",
                "y_train = y_train.values\n",
                "y_test = y_test.values\n",
                "\n",
                "# Модель 1: Случайный выбор признаков\n",
                "print(\"МОДЕЛЬ 1: СЛУЧАЙНЫЙ ВЫБОР ПРИЗНАКОВ\")\n",
                "print(\"-\" * 40)\n",
                "\n",
                "# Выбор 5 случайных признаков\n",
                "np.random.seed(42)\n",
                "random_features = np.random.choice(X_scaled.shape[1], size=5, replace=False)\n",
                "print(f\"Случайно выбранные признаки: {random_features}\")\n",
                "\n",
                "X_train_random = X_train[:, random_features]\n",
                "X_test_random = X_test[:, random_features]\n",
                "\n",
                "# Модель 2: Фиксированный набор признаков\n",
                "print(\"\\nМОДЕЛЬ 2: ФИКСИРОВАННЫЙ НАБОР ПРИЗНАКОВ\")\n",
                "print(\"-\" * 40)\n",
                "\n",
                "# Выбор фиксированных признаков (первые 5)\n",
                "fixed_features = [0, 1, 2, 3, 4]  # Alcohol, Malic Acid, Ash, Alcalinity of ash, Magnesium\n",
                "print(f\"Фиксированные признаки: {fixed_features}\")\n",
                "\n",
                "X_train_fixed = X_train[:, fixed_features]\n",
                "X_test_fixed = X_test[:, fixed_features]"
            ]
        },
        {
            "cell_type": "markdown",
            "metadata": {},
            "source": [
                "## 5. Оценка моделей при различных значениях k"
            ]
        },
        {
            "cell_type": "code",
            "execution_count": null,
            "metadata": {},
            "outputs": [],
            "source": [
                "print(\"5. ОЦЕНКА МОДЕЛЕЙ ПРИ РАЗЛИЧНЫХ ЗНАЧЕНИЯХ k\")\n",
                "print(\"=\" * 50)\n",
                "\n",
                "k_values = [3, 5, 10, 15]\n",
                "\n",
                "\n",
                "def evaluate_model(X_train, X_test, y_train, y_test, model_name):\n",
                "    print(f\"\\n{model_name}\")\n",
                "    print(\"-\" * 30)\n",
                "\n",
                "    results = {}\n",
                "\n",
                "    for k in k_values:\n",
                "        # Создание и обучение модели\n",
                "        knn = KNN(k=k)\n",
                "        knn.fit(X_train, y_train)\n",
                "\n",
                "        # Предсказание\n",
                "        y_pred = knn.predict(X_test)\n",
                "\n",
                "        # Вычисление точности\n",
                "        accuracy = knn.accuracy(y_test, y_pred)\n",
                "        results[k] = accuracy\n",
                "\n",
                "        print(f\"k = {k}, Точность: {accuracy:.4f}\")\n",
                "\n",
                "        # Матрица ошибок\n",
                "        cm = confusion_matrix(y_test, y_pred)\n",
                "\n",
                "        plt.figure(figsize=(6, 5))\n",
                "        sns.heatmap(cm, annot=True, fmt=\"d\", cmap=\"Blues\")\n",
                "        plt.title(f\"Матрица ошибок (k={k}, {model_name})\")\n",
                "        plt.ylabel(\"Истинные значения\")\n",
                "        plt.xlabel(\"Предсказанные значения\")\n",
                "        plt.show()\n",
                "\n",
                "    return results\n",
                "\n",
                "\n",
                "# Оценка моделей\n",
                "results_random = evaluate_model(\n",
                "    X_train_random,\n",
                "    X_test_random,\n",
                "    y_train,\n",
                "    y_test,\n",
                "    \"Модель 1: Случайные признаки\",\n",
                ")\n",
                "results_fixed = evaluate_model(\n",
                "    X_train_fixed,\n",
                "    X_test_fixed,\n",
                "    y_train,\n",
                "    y_test,\n",
                "    \"Модель 2: Фиксированные признаки\",\n",
                ")"
            ]
        },
        {
            "cell_type": "code",
            "execution_count": null,
            "metadata": {},
            "outputs": [],
            "source": [
                "# Сравнение результатов\n",
                "plt.figure(figsize=(10, 6))\n",
                "plt.plot(k_values, [results_random[k] for k in k_values], \"o-\", label=\"Случайные признаки\")\n",
                "plt.plot(k_values, [results_fixed[k] for k in k_values], \"s-\", label=\"Фиксированные признаки\")\n",
                "plt.xlabel(\"Значение k\")\n",
                "plt.ylabel(\"Точность\")\n",
                "plt.title(\"Сравнение точности моделей при различных k\")\n",
                "plt.legend()\n",
                "plt.grid(True)\n",
                "plt.show()"
            ]
        },
        {
            "cell_type": "markdown",
            "metadata": {},
            "source": [
                "## 6. Выводы"
            ]
        },
        {
            "cell_type": "code",
            "execution_count": null,
            "metadata": {},
            "outputs": [],
            "source": [
                "print(\"\\n6. ВЫВОДЫ\")\n",
                "print(\"=\" * 50)\n",
                "print(\"\\nЛучшая точность достигнута при:\")\n",
                "best_k_random = max(results_random, key=results_random.get)\n",
                "best_k_fixed = max(results_fixed, key=results_fixed.get)\n",
                "print(\n",
                "    f\"- Модель 1 (случайные признаки): k={best_k_random}, точность={results_random[best_k_random]:.4f}\"\n",
                ")\n",
                "print(\n",
                "    f\"- Модель 2 (фиксированные признаки): k={best_k_fixed}, точность={results_fixed[best_k_fixed]:.4f}\"\n",
                ")"
            ]
        }
    ],
    "metadata": {
        "kernelspec": {
            "display_name": "lab4-py3.10",
            "language": "python",
            "name": "python3"
        },
        "language_info": {
            "codemirror_mode": {
                "name": "ipython",
                "version": 3
            },
            "file_extension": ".py",
            "mimetype": "text/x-python",
            "name": "python",
            "nbconvert_exporter": "python",
            "pygments_lexer": "ipython3",
            "version": "3.10.12"
        }
    },
    "nbformat": 4,
    "nbformat_minor": 4
}
