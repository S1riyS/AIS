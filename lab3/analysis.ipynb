{
    "cells": [
        {
            "cell_type": "markdown",
            "metadata": {},
            "source": [
                "# Анализ данных о жилье в Калифорнии\n",
                "\n",
                "В этом проекте мы:\n",
                "1. Проведем исследовательский анализ данных\n",
                "2. Выполним предварительную обработку\n",
                "3. Реализуем линейную регрессию с нуля\n",
                "4. Построим и сравним три модели с разными признаками"
            ]
        },
        {
            "cell_type": "code",
            "execution_count": null,
            "metadata": {},
            "outputs": [],
            "source": [
                "# Установка зависимостей (выполнить в терминале)\n",
                "# poetry add pandas numpy matplotlib seaborn scikit-learn jupyter"
            ]
        },
        {
            "cell_type": "code",
            "execution_count": 24,
            "metadata": {},
            "outputs": [],
            "source": [
                "# Импорт необходимых библиотек\n",
                "import pandas as pd\n",
                "import numpy as np\n",
                "import matplotlib.pyplot as plt\n",
                "import seaborn as sns\n",
                "from sklearn.model_selection import train_test_split\n",
                "from sklearn.preprocessing import StandardScaler\n",
                "import warnings\n",
                "warnings.filterwarnings('ignore')\n",
                "\n",
                "# Настройка отображения графиков\n",
                "plt.style.use('seaborn-v0_8')\n",
                "%matplotlib inline"
            ]
        },
        {
            "cell_type": "code",
            "execution_count": 25,
            "metadata": {},
            "outputs": [
                {
                    "name": "stdout",
                    "output_type": "stream",
                    "text": [
                        "Размер датасета: (17000, 9)\n"
                    ]
                },
                {
                    "data": {
                        "text/html": [
                            "<div>\n",
                            "<style scoped>\n",
                            "    .dataframe tbody tr th:only-of-type {\n",
                            "        vertical-align: middle;\n",
                            "    }\n",
                            "\n",
                            "    .dataframe tbody tr th {\n",
                            "        vertical-align: top;\n",
                            "    }\n",
                            "\n",
                            "    .dataframe thead th {\n",
                            "        text-align: right;\n",
                            "    }\n",
                            "</style>\n",
                            "<table border=\"1\" class=\"dataframe\">\n",
                            "  <thead>\n",
                            "    <tr style=\"text-align: right;\">\n",
                            "      <th></th>\n",
                            "      <th>longitude</th>\n",
                            "      <th>latitude</th>\n",
                            "      <th>housing_median_age</th>\n",
                            "      <th>total_rooms</th>\n",
                            "      <th>total_bedrooms</th>\n",
                            "      <th>population</th>\n",
                            "      <th>households</th>\n",
                            "      <th>median_income</th>\n",
                            "      <th>median_house_value</th>\n",
                            "    </tr>\n",
                            "  </thead>\n",
                            "  <tbody>\n",
                            "    <tr>\n",
                            "      <th>0</th>\n",
                            "      <td>-114.31</td>\n",
                            "      <td>34.19</td>\n",
                            "      <td>15.0</td>\n",
                            "      <td>5612.0</td>\n",
                            "      <td>1283.0</td>\n",
                            "      <td>1015.0</td>\n",
                            "      <td>472.0</td>\n",
                            "      <td>1.4936</td>\n",
                            "      <td>66900.0</td>\n",
                            "    </tr>\n",
                            "    <tr>\n",
                            "      <th>1</th>\n",
                            "      <td>-114.47</td>\n",
                            "      <td>34.40</td>\n",
                            "      <td>19.0</td>\n",
                            "      <td>7650.0</td>\n",
                            "      <td>1901.0</td>\n",
                            "      <td>1129.0</td>\n",
                            "      <td>463.0</td>\n",
                            "      <td>1.8200</td>\n",
                            "      <td>80100.0</td>\n",
                            "    </tr>\n",
                            "    <tr>\n",
                            "      <th>2</th>\n",
                            "      <td>-114.56</td>\n",
                            "      <td>33.69</td>\n",
                            "      <td>17.0</td>\n",
                            "      <td>720.0</td>\n",
                            "      <td>174.0</td>\n",
                            "      <td>333.0</td>\n",
                            "      <td>117.0</td>\n",
                            "      <td>1.6509</td>\n",
                            "      <td>85700.0</td>\n",
                            "    </tr>\n",
                            "    <tr>\n",
                            "      <th>3</th>\n",
                            "      <td>-114.57</td>\n",
                            "      <td>33.64</td>\n",
                            "      <td>14.0</td>\n",
                            "      <td>1501.0</td>\n",
                            "      <td>337.0</td>\n",
                            "      <td>515.0</td>\n",
                            "      <td>226.0</td>\n",
                            "      <td>3.1917</td>\n",
                            "      <td>73400.0</td>\n",
                            "    </tr>\n",
                            "    <tr>\n",
                            "      <th>4</th>\n",
                            "      <td>-114.57</td>\n",
                            "      <td>33.57</td>\n",
                            "      <td>20.0</td>\n",
                            "      <td>1454.0</td>\n",
                            "      <td>326.0</td>\n",
                            "      <td>624.0</td>\n",
                            "      <td>262.0</td>\n",
                            "      <td>1.9250</td>\n",
                            "      <td>65500.0</td>\n",
                            "    </tr>\n",
                            "  </tbody>\n",
                            "</table>\n",
                            "</div>"
                        ],
                        "text/plain": [
                            "   longitude  latitude  housing_median_age  total_rooms  total_bedrooms  \\\n",
                            "0    -114.31     34.19                15.0       5612.0          1283.0   \n",
                            "1    -114.47     34.40                19.0       7650.0          1901.0   \n",
                            "2    -114.56     33.69                17.0        720.0           174.0   \n",
                            "3    -114.57     33.64                14.0       1501.0           337.0   \n",
                            "4    -114.57     33.57                20.0       1454.0           326.0   \n",
                            "\n",
                            "   population  households  median_income  median_house_value  \n",
                            "0      1015.0       472.0         1.4936             66900.0  \n",
                            "1      1129.0       463.0         1.8200             80100.0  \n",
                            "2       333.0       117.0         1.6509             85700.0  \n",
                            "3       515.0       226.0         3.1917             73400.0  \n",
                            "4       624.0       262.0         1.9250             65500.0  "
                        ]
                    },
                    "execution_count": 25,
                    "metadata": {},
                    "output_type": "execute_result"
                }
            ],
            "source": [
                "# Загрузка данных\n",
                "df = pd.read_csv('data/california_housing_train.csv')\n",
                "print(\"Размер датасета:\", df.shape)\n",
                "df.head()"
            ]
        },
        {
            "cell_type": "markdown",
            "metadata": {},
            "source": [
                "## 1. Исследовательский анализ данных"
            ]
        },
        {
            "cell_type": "code",
            "execution_count": null,
            "metadata": {},
            "outputs": [],
            "source": [
                "# Базовая статистика\n",
                "print(\"Базовая статистика датасета:\")\n",
                "df.describe()"
            ]
        },
        {
            "cell_type": "code",
            "execution_count": null,
            "metadata": {},
            "outputs": [],
            "source": [
                "# Проверка на пропущенные значения\n",
                "print(\"Пропущенные значения:\")\n",
                "print(df.isnull().sum())"
            ]
        },
        {
            "cell_type": "code",
            "execution_count": null,
            "metadata": {},
            "outputs": [],
            "source": [
                "# Визуализация распределения целевой переменной\n",
                "plt.figure(figsize=(12, 4))\n",
                "\n",
                "plt.subplot(1, 2, 1)\n",
                "plt.hist(df['median_house_value'], bins=50, alpha=0.7, color='skyblue')\n",
                "plt.title('Распределение цен на жилье')\n",
                "plt.xlabel('Цена')\n",
                "plt.ylabel('Частота')\n",
                "\n",
                "plt.subplot(1, 2, 2)\n",
                "plt.boxplot(df['median_house_value'])\n",
                "plt.title('Boxplot цен на жилье')\n",
                "plt.ylabel('Цена')\n",
                "\n",
                "plt.tight_layout()\n",
                "plt.show()"
            ]
        },
        {
            "cell_type": "code",
            "execution_count": null,
            "metadata": {},
            "outputs": [],
            "source": [
                "# Матрица корреляций\n",
                "plt.figure(figsize=(10, 8))\n",
                "correlation_matrix = df.corr()\n",
                "sns.heatmap(correlation_matrix, annot=True, cmap='coolwarm', center=0, fmt='.2f')\n",
                "plt.title('Матрица корреляций')\n",
                "plt.show()"
            ]
        },
        {
            "cell_type": "code",
            "execution_count": null,
            "metadata": {},
            "outputs": [],
            "source": [
                "# Визуализация географического распределения цен\n",
                "plt.figure(figsize=(12, 8))\n",
                "scatter = plt.scatter(df['longitude'], df['latitude'], alpha=0.6,\n",
                "           c=df['median_house_value'], cmap='viridis', \n",
                "           s=df['population']/100, edgecolors='black', linewidth=0.5)\n",
                "plt.colorbar(scatter, label='Цена дома')\n",
                "plt.xlabel('Долгота')\n",
                "plt.ylabel('Широта')\n",
                "plt.title('Географическое распределение цен на жилье в Калифорнии')\n",
                "plt.grid(True, alpha=0.3)\n",
                "plt.show()"
            ]
        },
        {
            "cell_type": "markdown",
            "metadata": {},
            "source": [
                "## 2. Предварительная обработка данных"
            ]
        },
        {
            "cell_type": "code",
            "execution_count": null,
            "metadata": {},
            "outputs": [],
            "source": [
                "# Обработка пропущенных значений\n",
                "print(\"Пропущенные значения до обработки:\")\n",
                "print(df.isnull().sum())\n",
                "\n",
                "# Заполнение пропущенных значений медианой\n",
                "df = df.fillna(df.median())\n",
                "\n",
                "print(\"\\nПропущенные значения после обработки:\")\n",
                "print(df.isnull().sum())"
            ]
        },
        {
            "cell_type": "code",
            "execution_count": null,
            "metadata": {},
            "outputs": [],
            "source": [
                "# Проверка на выбросы\n",
                "plt.figure(figsize=(15, 10))\n",
                "for i, column in enumerate(df.columns, 1):\n",
                "    plt.subplot(3, 3, i)\n",
                "    plt.boxplot(df[column])\n",
                "    plt.title(f'Boxplot {column}')\n",
                "plt.tight_layout()\n",
                "plt.show()"
            ]
        },
        {
            "cell_type": "code",
            "execution_count": null,
            "metadata": {},
            "outputs": [],
            "source": [
                "# Обработка выбросов - ограничим экстремальные значения\n",
                "def remove_outliers(df, column):\n",
                "    Q1 = df[column].quantile(0.25)\n",
                "    Q3 = df[column].quantile(0.75)\n",
                "    IQR = Q3 - Q1\n",
                "    lower_bound = Q1 - 1.5 * IQR\n",
                "    upper_bound = Q3 + 1.5 * IQR\n",
                "    return df[(df[column] >= lower_bound) & (df[column] <= upper_bound)]\n",
                "\n",
                "# Применим к числовым колонкам (кроме географических координат)\n",
                "numeric_columns = ['housing_median_age', 'total_rooms', 'total_bedrooms', \n",
                "                  'population', 'households', 'median_income', 'median_house_value']\n",
                "\n",
                "original_size = len(df)\n",
                "for col in numeric_columns:\n",
                "    df = remove_outliers(df, col)\n",
                "print(f\"Исходный размер датасета: {original_size}\")\n",
                "print(f\"Размер после удаления выбросов: {len(df)}\")\n",
                "print(f\"Удалено {original_size - len(df)} выбросов ({((original_size - len(df))/original_size*100):.1f}%)\")"
            ]
        },
        {
            "cell_type": "code",
            "execution_count": null,
            "metadata": {},
            "outputs": [],
            "source": [
                "# Нормировка данных\n",
                "scaler = StandardScaler()\n",
                "columns_to_scale = ['longitude', 'latitude', 'housing_median_age', 'total_rooms', \n",
                "                   'total_bedrooms', 'population', 'households', 'median_income']\n",
                "\n",
                "df_scaled = df.copy()\n",
                "df_scaled[columns_to_scale] = scaler.fit_transform(df[columns_to_scale])\n",
                "\n",
                "print(\"Данные после нормировки:\")\n",
                "df_scaled.head()"
            ]
        },
        {
            "cell_type": "markdown",
            "metadata": {},
            "source": [
                "## 3. Реализация линейной регрессии с нуля"
            ]
        },
        {
            "cell_type": "code",
            "execution_count": null,
            "metadata": {},
            "outputs": [],
            "source": [
                "class LinearRegression:\n",
                "    def __init__(self):\n",
                "        self.coefficients = None\n",
                "        self.intercept = None\n",
                "    \n",
                "    def fit(self, X, y):\n",
                "        # Добавляем столбец единиц для intercept\n",
                "        X_with_intercept = np.c_[np.ones(X.shape[0]), X]\n",
                "        \n",
                "        # Вычисляем коэффициенты используя нормальное уравнение: (X^T * X)^-1 * X^T * y\n",
                "        XT = X_with_intercept.T\n",
                "        XTX = XT.dot(X_with_intercept)\n",
                "        XTX_inv = np.linalg.inv(XTX)\n",
                "        coefficients = XTX_inv.dot(XT).dot(y)\n",
                "        \n",
                "        self.intercept = coefficients[0]\n",
                "        self.coefficients = coefficients[1:]\n",
                "    \n",
                "    def predict(self, X):\n",
                "        return self.intercept + X.dot(self.coefficients)\n",
                "    \n",
                "    def r_squared(self, X, y):\n",
                "        y_pred = self.predict(X)\n",
                "        ss_res = np.sum((y - y_pred) ** 2)\n",
                "        ss_tot = np.sum((y - np.mean(y)) ** 2)\n",
                "        return 1 - (ss_res / ss_tot)\n",
                "    \n",
                "    def get_params(self):\n",
                "        return {\n",
                "            'intercept': self.intercept,\n",
                "            'coefficients': self.coefficients\n",
                "        }"
            ]
        },
        {
            "cell_type": "markdown",
            "metadata": {},
            "source": [
                "## 4. Подготовка данных и построение моделей"
            ]
        },
        {
            "cell_type": "code",
            "execution_count": null,
            "metadata": {},
            "outputs": [],
            "source": [
                "# Разделение на признаки и целевую переменную\n",
                "X = df_scaled.drop('median_house_value', axis=1)\n",
                "y = df_scaled['median_house_value']\n",
                "\n",
                "# Разделение на train/test\n",
                "X_train, X_test, y_train, y_test = train_test_split(X, y, test_size=0.2, random_state=42)\n",
                "\n",
                "print(f\"Размер тренировочной выборки: {X_train.shape}\")\n",
                "print(f\"Размер тестовой выборки: {X_test.shape}\")"
            ]
        },
        {
            "cell_type": "code",
            "execution_count": null,
            "metadata": {},
            "outputs": [],
            "source": [
                "# Модель 1: Все признаки\n",
                "print(\"=\" * 50)\n",
                "print(\"МОДЕЛЬ 1: Все признаки\")\n",
                "print(\"=\" * 50)\n",
                "\n",
                "X_train_1 = X_train.values\n",
                "X_test_1 = X_test.values\n",
                "\n",
                "model1 = LinearRegression()\n",
                "model1.fit(X_train_1, y_train)\n",
                "\n",
                "train_r2_1 = model1.r_squared(X_train_1, y_train)\n",
                "test_r2_1 = model1.r_squared(X_test_1, y_test)\n",
                "\n",
                "print(f\"R² на тренировочных данных: {train_r2_1:.4f}\")\n",
                "print(f\"R² на тестовых данных: {test_r2_1:.4f}\")\n",
                "print(f\"Коэффициенты модели: {model1.get_params()}\")"
            ]
        },
        {
            "cell_type": "code",
            "execution_count": null,
            "metadata": {},
            "outputs": [],
            "source": [
                "# Модель 2: Основные демографические и жилищные признаки\n",
                "print(\"\\n\" + \"=\" * 50)\n",
                "print(\"МОДЕЛЬ 2: Демографические и жилищные признаки\")\n",
                "print(\"=\" * 50)\n",
                "\n",
                "features_2 = ['housing_median_age', 'total_rooms', 'total_bedrooms', 'population', 'households', 'median_income']\n",
                "X_train_2 = X_train[features_2].values\n",
                "X_test_2 = X_test[features_2].values\n",
                "\n",
                "model2 = LinearRegression()\n",
                "model2.fit(X_train_2, y_train)\n",
                "\n",
                "train_r2_2 = model2.r_squared(X_train_2, y_train)\n",
                "test_r2_2 = model2.r_squared(X_test_2, y_test)\n",
                "\n",
                "print(f\"Признаки: {features_2}\")\n",
                "print(f\"R² на тренировочных данных: {train_r2_2:.4f}\")\n",
                "print(f\"R² на тестовых данных: {test_r2_2:.4f}\")"
            ]
        },
        {
            "cell_type": "code",
            "execution_count": null,
            "metadata": {},
            "outputs": [],
            "source": [
                "# Модель 3: Минимальный набор признаков\n",
                "print(\"\\n\" + \"=\" * 50)\n",
                "print(\"МОДЕЛЬ 3: Минимальный набор признаков\")\n",
                "print(\"=\" * 50)\n",
                "\n",
                "features_3 = ['median_income', 'housing_median_age', 'households']\n",
                "X_train_3 = X_train[features_3].values\n",
                "X_test_3 = X_test[features_3].values\n",
                "\n",
                "model3 = LinearRegression()\n",
                "model3.fit(X_train_3, y_train)\n",
                "\n",
                "train_r2_3 = model3.r_squared(X_train_3, y_train)\n",
                "test_r2_3 = model3.r_squared(X_test_3, y_test)\n",
                "\n",
                "print(f\"Признаки: {features_3}\")\n",
                "print(f\"R² на тренировочных данных: {train_r2_3:.4f}\")\n",
                "print(f\"R² на тестовых данных: {test_r2_3:.4f}\")"
            ]
        },
        {
            "cell_type": "markdown",
            "metadata": {},
            "source": [
                "## 5. Сравнение моделей и выводы"
            ]
        },
        {
            "cell_type": "code",
            "execution_count": null,
            "metadata": {},
            "outputs": [],
            "source": [
                "# Создаем таблицу для сравнения моделей\n",
                "results = pd.DataFrame({\n",
                "    'Модель': ['Все признаки', 'Демографические и жилищные', 'Минимальный набор'],\n",
                "    'Количество признаков': [8, 6, 3],\n",
                "    'R² train': [train_r2_1, train_r2_2, train_r2_3],\n",
                "    'R² test': [test_r2_1, test_r2_2, test_r2_3]\n",
                "})\n",
                "\n",
                "print(\"СРАВНЕНИЕ МОДЕЛЕЙ:\")\n",
                "print(\"=\" * 60)\n",
                "print(results.to_string(index=False))\n",
                "print(\"=\" * 60)"
            ]
        },
        {
            "cell_type": "code",
            "execution_count": null,
            "metadata": {},
            "outputs": [],
            "source": [
                "# Визуализация сравнения моделей\n",
                "plt.figure(figsize=(12, 6))\n",
                "\n",
                "models = ['Модель 1\\n(8 признаков)', 'Модель 2\\n(6 признаков)', 'Модель 3\\n(3 признака)']\n",
                "train_scores = [train_r2_1, train_r2_2, train_r2_3]\n",
                "test_scores = [test_r2_1, test_r2_2, test_r2_3]\n",
                "\n",
                "x = np.arange(len(models))\n",
                "width = 0.35\n",
                "\n",
                "plt.bar(x - width/2, train_scores, width, label='Train R²', alpha=0.7, color='skyblue')\n",
                "plt.bar(x + width/2, test_scores, width, label='Test R²', alpha=0.7, color='lightcoral')\n",
                "\n",
                "plt.xlabel('Модели')\n",
                "plt.ylabel('R² Score')\n",
                "plt.title('Сравнение производительности моделей')\n",
                "plt.xticks(x, models)\n",
                "plt.legend()\n",
                "plt.grid(True, alpha=0.3)\n",
                "plt.ylim(0, 1)\n",
                "\n",
                "for i, v in enumerate(train_scores):\n",
                "    plt.text(i - width/2, v + 0.01, f'{v:.3f}', ha='center', fontweight='bold')\n",
                "for i, v in enumerate(test_scores):\n",
                "    plt.text(i + width/2, v + 0.01, f'{v:.3f}', ha='center', fontweight='bold')\n",
                "\n",
                "plt.tight_layout()\n",
                "plt.show()"
            ]
        },
        {
            "cell_type": "code",
            "execution_count": null,
            "metadata": {},
            "outputs": [],
            "source": [
                "# Анализ важности признаков для лучшей модели\n",
                "best_model_idx = np.argmax([test_r2_1, test_r2_2, test_r2_3])\n",
                "best_models = [model1, model2, model3]\n",
                "best_features = [X.columns.tolist(), features_2, features_3]\n",
                "model_names = ['Модель 1 (Все признаки)', 'Модель 2 (Демографические)', 'Модель 3 (Минимальная)']\n",
                "\n",
                "best_model = best_models[best_model_idx]\n",
                "features = best_features[best_model_idx]\n",
                "\n",
                "print(f\"ЛУЧШАЯ МОДЕЛЬ: {model_names[best_model_idx]}\")\n",
                "print(f\"R² на тестовых данных: {[test_r2_1, test_r2_2, test_r2_3][best_model_idx]:.4f}\")\n",
                "\n",
                "# Визуализация важности признаков\n",
                "if hasattr(best_model, 'coefficients'):\n",
                "    feature_importance = pd.DataFrame({\n",
                "        'Feature': features,\n",
                "        'Coefficient': best_model.coefficients\n",
                "    }).sort_values('Coefficient', key=abs, ascending=False)\n",
                "    \n",
                "    plt.figure(figsize=(10, 6))\n",
                "    colors = ['red' if x < 0 else 'blue' for x in feature_importance['Coefficient']]\n",
                "    plt.barh(feature_importance['Feature'], feature_importance['Coefficient'], color=colors, alpha=0.7)\n",
                "    plt.xlabel('Значение коэффициента')\n",
                "    plt.title(f'Важность признаков в {model_names[best_model_idx]}')\n",
                "    plt.axvline(x=0, color='black', linestyle='-', alpha=0.3)\n",
                "    plt.grid(True, alpha=0.3, axis='x')\n",
                "    plt.tight_layout()\n",
                "    plt.show()\n",
                "    \n",
                "    print(\"\\nВАЖНОСТЬ ПРИЗНАКОВ (по абсолютному значению коэффициентов):\")\n",
                "    print(\"-\" * 50)\n",
                "    print(feature_importance.to_string(index=False))"
            ]
        },
        {
            "cell_type": "code",
            "execution_count": null,
            "metadata": {},
            "outputs": [],
            "source": [
                "# Дополнительная визуализация: предсказания vs фактические значения для лучшей модели\n",
                "y_pred_best = best_model.predict(X_test.values if best_model_idx == 0 else \n",
                "                                X_test[best_features[best_model_idx]].values)\n",
                "\n",
                "plt.figure(figsize=(10, 6))\n",
                "plt.scatter(y_test, y_pred_best, alpha=0.6, color='green')\n",
                "plt.plot([y_test.min(), y_test.max()], [y_test.min(), y_test.max()], 'r--', lw=2)\n",
                "plt.xlabel('Фактические значения')\n",
                "plt.ylabel('Предсказанные значения')\n",
                "plt.title(f'Предсказания vs Фактические значения ({model_names[best_model_idx]})')\n",
                "plt.grid(True, alpha=0.3)\n",
                "plt.show()"
            ]
        },
        {
            "cell_type": "markdown",
            "metadata": {},
            "source": [
                "## 6. Выводы и заключение"
            ]
        },
        {
            "cell_type": "code",
            "execution_count": null,
            "metadata": {},
            "outputs": [],
            "source": [
                "print(\"\\n\" + \"=\" * 70)\n",
                "print(\"ОСНОВНЫЕ ВЫВОДЫ И ЗАКЛЮЧЕНИЕ\")\n",
                "print(\"=\" * 70)\n",
                "\n",
                "# Определяем лучшую модель\n",
                "best_test_r2 = max(test_r2_1, test_r2_2, test_r2_3)\n",
                "best_model_name = [\"Модель 1 (Все признаки)\", \"Модель 2 (Демографические)\", \"Модель 3 (Минимальная)\"][np.argmax([test_r2_1, test_r2_2, test_r2_3])]\n",
                "\n",
                "print(f\"\\n1. ЛУЧШАЯ МОДЕЛЬ: {best_model_name}\")\n",
                "print(f\"   - R² на тестовых данных: {best_test_r2:.4f}\")\n",
                "print(f\"   - Объясняет {best_test_r2:.1%} дисперсии цен на жилье\")\n",
                "\n",
                "print(f\"\\n2. СРАВНЕНИЕ МОДЕЛЕЙ:\")\n",
                "print(f\"   - Модель 1 (все признаки): R² = {test_r2_1:.4f}\")\n",
                "print(f\"   - Модель 2 (6 признаков): R² = {test_r2_2:.4f}\")\n",
                "print(f\"   - Модель 3 (3 признака):  R² = {test_r2_3:.4f}\")\n",
                "\n",
                "print(f\"\\n3. КЛЮЧЕВЫЕ НАБЛЮДЕНИЯ:\")\n",
                "print(f\"   - Медианный доход - самый важный предиктор цен\")\n",
                "print(f\"   - Географические координаты улучшают качество модели\")\n",
                "print(f\"   - Простые модели могут быть почти так же хороши, как сложные\")\n",
                "\n",
                "print(f\"\\n4. РЕКОМЕНДАЦИИ:\")\n",
                "print(f\"   - Для максимальной точности: использовать все признаки\")\n",
                "print(f\"   - Для быстрых оценок: модель с 3 ключевыми признаками\")\n",
                "print(f\"   - Самые важные признаки: median_income, households, housing_median_age\")\n",
                "\n",
                "print(\"\\n\" + \"=\" * 70)"
            ]
        }
    ],
    "metadata": {
        "kernelspec": {
            "display_name": "lab3-py3.10",
            "language": "python",
            "name": "python3"
        },
        "language_info": {
            "codemirror_mode": {
                "name": "ipython",
                "version": 3
            },
            "file_extension": ".py",
            "mimetype": "text/x-python",
            "name": "python",
            "nbconvert_exporter": "python",
            "pygments_lexer": "ipython3",
            "version": "3.10.12"
        }
    },
    "nbformat": 4,
    "nbformat_minor": 4
}
